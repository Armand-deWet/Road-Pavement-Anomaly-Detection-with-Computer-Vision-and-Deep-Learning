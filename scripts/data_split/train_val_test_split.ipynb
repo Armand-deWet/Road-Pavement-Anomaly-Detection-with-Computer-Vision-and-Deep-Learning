{
  "nbformat": 4,
  "nbformat_minor": 0,
  "metadata": {
    "colab": {
      "provenance": []
    },
    "kernelspec": {
      "name": "python3",
      "display_name": "Python 3"
    },
    "language_info": {
      "name": "python"
    }
  },
  "cells": [
    {
      "cell_type": "markdown",
      "source": [
        "The data will be split into a train/val/test set with ratio 70/10/20"
      ],
      "metadata": {
        "id": "fcv5GQ7A-LEu"
      }
    },
    {
      "cell_type": "code",
      "source": [
        "# Imports\n",
        "import os\n",
        "import random\n",
        "import numpy as np"
      ],
      "metadata": {
        "id": "YbxNE_gh-Wdd"
      },
      "execution_count": null,
      "outputs": []
    },
    {
      "cell_type": "code",
      "source": [
        "# Load the Drive helper and mount\n",
        "from google.colab import drive\n",
        "drive.mount('/content/drive')"
      ],
      "metadata": {
        "colab": {
          "base_uri": "https://localhost:8080/"
        },
        "id": "biBG867X-ZkP",
        "outputId": "25fb7ae0-fc28-4e96-e254-286216f888ed"
      },
      "execution_count": null,
      "outputs": [
        {
          "output_type": "stream",
          "name": "stdout",
          "text": [
            "Mounted at /content/drive\n"
          ]
        }
      ]
    },
    {
      "cell_type": "code",
      "source": [
        "# move to applicable directory\n",
        "os.chdir(\"drive/My Drive/Road Pavement Anomaly Detection/Data\")"
      ],
      "metadata": {
        "id": "P9A_927c-f4Y"
      },
      "execution_count": null,
      "outputs": []
    },
    {
      "cell_type": "code",
      "source": [
        "# check contents\n",
        "!ls"
      ],
      "metadata": {
        "colab": {
          "base_uri": "https://localhost:8080/"
        },
        "id": "fSZtJL-5_KMt",
        "outputId": "1e929943-16a3-48df-e1c6-aa5e32436fca"
      },
      "execution_count": null,
      "outputs": [
        {
          "output_type": "stream",
          "name": "stdout",
          "text": [
            "filtered_images  filtered_labels_diverse  filtered_labels_singular\n"
          ]
        }
      ]
    },
    {
      "cell_type": "code",
      "source": [
        "# sanity check\n",
        "print(len(os.listdir('filtered_images')) == len(os.listdir('filtered_labels_singular')) == len(os.listdir('filtered_labels_diverse')))\n",
        "print(len(os.listdir('filtered_images')))\n",
        "\n",
        "print(set([i[:-4] for i in os.listdir('filtered_images')]) == set([i[:-4] for i in os.listdir('filtered_labels_singular')]) == set([i[:-4] for i in os.listdir('filtered_labels_diverse')]))"
      ],
      "metadata": {
        "colab": {
          "base_uri": "https://localhost:8080/"
        },
        "id": "iBtixwKuCNHp",
        "outputId": "b67f7f36-7bbb-427d-bd26-cd83d3f16a50"
      },
      "execution_count": null,
      "outputs": [
        {
          "output_type": "stream",
          "name": "stdout",
          "text": [
            "True\n",
            "24432\n",
            "True\n"
          ]
        }
      ]
    },
    {
      "cell_type": "code",
      "source": [
        "# isolate file names for random split\n",
        "file_names_without_extension = [i[:-4] for i in os.listdir('filtered_images')]\n",
        "random.Random(4).shuffle(file_names_without_extension)\n",
        "\n",
        "train, val, test = np.split(file_names_without_extension,\n",
        " [int(len(file_names_without_extension)*0.7), int(len(file_names_without_extension)*0.8)])\n",
        "\n",
        "train = [str(i) for i in train]\n",
        "val = [str(i) for i in val]\n",
        "test = [str(i) for i in test]"
      ],
      "metadata": {
        "id": "kb9zKMiS_Kpt"
      },
      "execution_count": null,
      "outputs": []
    },
    {
      "cell_type": "code",
      "source": [
        "# sanity checks\n",
        "print(set(train).isdisjoint(set(val)))\n",
        "print(set(train).isdisjoint(set(test)))\n",
        "print(set(val).isdisjoint(set(test)))\n",
        "\n",
        "print(set(train+val+test) == set(file_names_without_extension))\n",
        "\n",
        "print(len(train)+len(val)+len(test) == len(file_names_without_extension))"
      ],
      "metadata": {
        "colab": {
          "base_uri": "https://localhost:8080/"
        },
        "id": "vb6t5sdd_YD3",
        "outputId": "b3852073-a73a-4e93-a353-60416b6b206f"
      },
      "execution_count": null,
      "outputs": [
        {
          "output_type": "stream",
          "name": "stdout",
          "text": [
            "True\n",
            "True\n",
            "True\n",
            "True\n",
            "True\n"
          ]
        }
      ]
    },
    {
      "cell_type": "code",
      "source": [
        "# create train, val and test folders\n",
        "os.mkdir('train')\n",
        "os.mkdir('val')\n",
        "os.mkdir('test')\n",
        "\n",
        "# create subfolders\n",
        "os.mkdir('train/images')\n",
        "os.mkdir('val/images')\n",
        "os.mkdir('test/images')\n",
        "\n",
        "os.mkdir('train/labels_singular')\n",
        "os.mkdir('val/labels_singular')\n",
        "os.mkdir('test/labels_singular')\n",
        "\n",
        "os.mkdir('train/labels_diverse')\n",
        "os.mkdir('val/labels_diverse')\n",
        "os.mkdir('test/labels_diverse')"
      ],
      "metadata": {
        "id": "0Witprn9_lXt"
      },
      "execution_count": null,
      "outputs": []
    },
    {
      "cell_type": "code",
      "source": [
        "# populate folders - train\n",
        "for i in train:\n",
        "  os.rename('filtered_images/'+i+'.jpg', 'train/images/'+i+'.jpg')\n",
        "  os.rename('filtered_labels_singular/'+i+'.txt', 'train/labels_singular/'+i+'.txt')\n",
        "  os.rename('filtered_labels_diverse/'+i+'.txt', 'train/labels_diverse/'+i+'.txt')"
      ],
      "metadata": {
        "id": "xMied8BCAEwp"
      },
      "execution_count": null,
      "outputs": []
    },
    {
      "cell_type": "code",
      "source": [
        "# populate folders - val\n",
        "for i in val:\n",
        "  os.rename('filtered_images/'+i+'.jpg', 'val/images/'+i+'.jpg')\n",
        "  os.rename('filtered_labels_singular/'+i+'.txt', 'val/labels_singular/'+i+'.txt')\n",
        "  os.rename('filtered_labels_diverse/'+i+'.txt', 'val/labels_diverse/'+i+'.txt')"
      ],
      "metadata": {
        "id": "azO0PFDKAKJG"
      },
      "execution_count": null,
      "outputs": []
    },
    {
      "cell_type": "code",
      "source": [
        "# populate folders - test\n",
        "for i in test:\n",
        "  os.rename('filtered_images/'+i+'.jpg', 'test/images/'+i+'.jpg')\n",
        "  os.rename('filtered_labels_singular/'+i+'.txt', 'test/labels_singular/'+i+'.txt')\n",
        "  os.rename('filtered_labels_diverse/'+i+'.txt', 'test/labels_diverse/'+i+'.txt')"
      ],
      "metadata": {
        "id": "cma8TfB-AUTK"
      },
      "execution_count": null,
      "outputs": []
    },
    {
      "cell_type": "code",
      "source": [
        "# sanity checks\n",
        "print(len(os.listdir('train/images')) == len(os.listdir('train/labels_singular')) == len(os.listdir('train/labels_diverse')) == len(train))\n",
        "print(len(train))\n",
        "print('------------------')\n",
        "print(len(os.listdir('val/images')) == len(os.listdir('val/labels_singular')) == len(os.listdir('val/labels_diverse')) == len(val))\n",
        "print(len(val))\n",
        "print('------------------')\n",
        "print(len(os.listdir('test/images')) == len(os.listdir('test/labels_singular')) == len(os.listdir('test/labels_diverse')) == len(test))\n",
        "print(len(test))\n",
        "print('------------------')"
      ],
      "metadata": {
        "colab": {
          "base_uri": "https://localhost:8080/"
        },
        "id": "EBtXI0ZxA-3v",
        "outputId": "19570e40-eb76-4628-ba43-2ccd837feb45"
      },
      "execution_count": null,
      "outputs": [
        {
          "output_type": "stream",
          "name": "stdout",
          "text": [
            "True\n",
            "17102\n",
            "------------------\n",
            "True\n",
            "2443\n",
            "------------------\n",
            "True\n",
            "4887\n",
            "------------------\n"
          ]
        }
      ]
    },
    {
      "cell_type": "code",
      "source": [],
      "metadata": {
        "id": "zqWKxoDgA_1n"
      },
      "execution_count": null,
      "outputs": []
    },
    {
      "cell_type": "code",
      "source": [],
      "metadata": {
        "id": "Fd40DYFpBHFq"
      },
      "execution_count": null,
      "outputs": []
    },
    {
      "cell_type": "code",
      "source": [],
      "metadata": {
        "id": "CvxpdVEvBhz9"
      },
      "execution_count": null,
      "outputs": []
    }
  ]
}